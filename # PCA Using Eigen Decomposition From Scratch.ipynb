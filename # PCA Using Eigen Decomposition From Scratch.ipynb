{
 "cells": [
  {
   "cell_type": "markdown",
   "metadata": {
    "id": "NNQk1WC5D2im"
   },
   "source": [
    "# PCA Using Eigen Decomposition"
   ]
  },
  {
   "cell_type": "markdown",
   "metadata": {
    "id": "bmiX-wjmD2iz"
   },
   "source": [
    "### Import the required libraries"
   ]
  },
  {
   "cell_type": "code",
   "execution_count": 280,
   "metadata": {
    "id": "VbnXyTh6D2i1"
   },
   "outputs": [],
   "source": [
    "import numpy as np\n",
    "import math"
   ]
  },
  {
   "cell_type": "markdown",
   "metadata": {
    "id": "1Ru1iJvrD2i1"
   },
   "source": [
    "### Create a matrix contains the following data"
   ]
  },
  {
   "cell_type": "code",
   "execution_count": 281,
   "metadata": {
    "id": "B_tq8QmXD2i3"
   },
   "outputs": [
    {
     "name": "stdout",
     "output_type": "stream",
     "text": [
      "(5, 4)\n"
     ]
    }
   ],
   "source": [
    "f1=[1,5,1,5,8]\n",
    "f2=[2,5,4,3,1]\n",
    "f3=[3,6,2,2,2]\n",
    "f4=[4,7,3,1,2]\n",
    "all=np.array([f1,f2,f3,f4])\n",
    "#print(all)\n",
    "allvec=all.transpose()\n",
    "#print(allvec)\n",
    "#print(allvec[:,1])\n",
    "#print(np.sum(allvec[:,1])/len(allvec[:,1]))\n",
    "print(allvec.shape)"
   ]
  },
  {
   "cell_type": "markdown",
   "metadata": {
    "id": "Ux-sSkbXD2i3"
   },
   "source": [
    "## Step 1: Standardize the dataset."
   ]
  },
  {
   "cell_type": "markdown",
   "metadata": {
    "id": "EesDnPJuD2i4"
   },
   "source": [
    "### Define a function to calculate data mean.\n"
   ]
  },
  {
   "cell_type": "code",
   "execution_count": 282,
   "metadata": {
    "id": "HviFkbAsD2i5"
   },
   "outputs": [
    {
     "name": "stdout",
     "output_type": "stream",
     "text": [
      "[4.  3.  3.  3.4]\n"
     ]
    }
   ],
   "source": [
    "def meanfun (x):\n",
    "    meanarr=[]\n",
    "    for i in range (len(x[:,0])-1):\n",
    "        y= np.sum(x[:,i])/len(x[:,i])\n",
    "        meanarr.append(y)\n",
    "    return meanarr\n",
    "meanarray=np.array(meanfun(allvec))\n",
    "print(meanarray)"
   ]
  },
  {
   "cell_type": "markdown",
   "metadata": {
    "id": "TBEaTa7_D2i6"
   },
   "source": [
    "### Check the function"
   ]
  },
  {
   "cell_type": "code",
   "execution_count": 283,
   "metadata": {
    "id": "8dMzB2G0D2i7"
   },
   "outputs": [
    {
     "name": "stdout",
     "output_type": "stream",
     "text": [
      "[4.  3.  3.  3.4]\n"
     ]
    }
   ],
   "source": [
    "meanarray=np.array(meanfun(allvec))\n",
    "\n",
    "feature1=meanarray[0]\n",
    "feature2=meanarray[1]\n",
    "print(meanarray)"
   ]
  },
  {
   "cell_type": "code",
   "execution_count": 284,
   "metadata": {
    "id": "KXHM8a3wD2i8"
   },
   "outputs": [
    {
     "name": "stdout",
     "output_type": "stream",
     "text": [
      "3.0\n"
     ]
    }
   ],
   "source": [
    "feature2=meanarray[1]\n",
    "\n",
    "print(feature2)"
   ]
  },
  {
   "cell_type": "markdown",
   "metadata": {
    "id": "Xtpzv1I_D2i8"
   },
   "source": [
    "### Define a function to calculate standard deviation of the data.\n"
   ]
  },
  {
   "cell_type": "code",
   "execution_count": 285,
   "metadata": {
    "id": "LCOcz4V4D2i-"
   },
   "outputs": [],
   "source": [
    "def stdfun (x,meanarr):\n",
    "    stdarr=[]\n",
    "    \n",
    " \n",
    "    \n",
    "    for i in range (len(x[:,0])-1):\n",
    "        sum=0\n",
    "        for j in range (len(x[0,:])+1):\n",
    "              \n",
    "            sum=sum+(pow(x[j,i]-meanarr[i],2))\n",
    "              \n",
    "              \n",
    "        y=math.sqrt(sum/(len(x[:,0])-1))\n",
    "        stdarr.append(y)\n",
    "    return(stdarr)\n",
    "\n",
    "\n"
   ]
  },
  {
   "cell_type": "markdown",
   "metadata": {
    "id": "BmlfIaqcD2i-"
   },
   "source": [
    "### Check the function "
   ]
  },
  {
   "cell_type": "code",
   "execution_count": 286,
   "metadata": {
    "id": "QcAQzb-8D2i_"
   },
   "outputs": [
    {
     "name": "stdout",
     "output_type": "stream",
     "text": [
      "[3.0, 1.5811388300841898, 1.7320508075688772, 2.302172886644268]\n"
     ]
    }
   ],
   "source": [
    "stdarray=stdfun(allvec,meanarray)\n",
    "print(stdarray)"
   ]
  },
  {
   "cell_type": "code",
   "execution_count": 287,
   "metadata": {
    "id": "RLX8KItgD2i_"
   },
   "outputs": [
    {
     "name": "stdout",
     "output_type": "stream",
     "text": [
      "1.5811388300841898\n"
     ]
    }
   ],
   "source": [
    "print(stdarray[1])"
   ]
  },
  {
   "cell_type": "markdown",
   "metadata": {
    "id": "TxmM-rw2D2jA"
   },
   "source": [
    "### Function to standardize the dataset."
   ]
  },
  {
   "cell_type": "code",
   "execution_count": 288,
   "metadata": {
    "id": "Oiy3wyXBD2jB"
   },
   "outputs": [],
   "source": [
    "def standardfun (x,mean,std):\n",
    "    standarray=np.zeros(x.shape)\n",
    "    for i in range (len(x[:,0])-1) :\n",
    "         for j in range (len(x[0,:])+1):\n",
    "            standarray[j,i]= (x[j,i]-mean[i])/std[i]\n",
    "              \n",
    "    return standarray\n",
    "\n"
   ]
  },
  {
   "cell_type": "markdown",
   "metadata": {
    "id": "izF2OanBD2jB"
   },
   "source": [
    "### Apply The function to standardize the data"
   ]
  },
  {
   "cell_type": "code",
   "execution_count": 289,
   "metadata": {
    "id": "9gnB74oWD2jD"
   },
   "outputs": [
    {
     "name": "stdout",
     "output_type": "stream",
     "text": [
      "[[-1.         -0.63245553  0.          0.26062335]\n",
      " [ 0.33333333  1.26491106  1.73205081  1.56374007]\n",
      " [-1.          0.63245553 -0.57735027 -0.1737489 ]\n",
      " [ 0.33333333  0.         -0.57735027 -1.04249338]\n",
      " [ 1.33333333 -1.26491106 -0.57735027 -0.60812114]]\n"
     ]
    }
   ],
   "source": [
    "stand_array=standardfun(allvec,meanarray,stdarray)\n",
    "print(stand_array)"
   ]
  },
  {
   "cell_type": "markdown",
   "metadata": {
    "id": "TVJHEjpmD2jF"
   },
   "source": [
    "## Step 2: Calculate the covariance matrix for the features in the dataset."
   ]
  },
  {
   "cell_type": "code",
   "execution_count": 290,
   "metadata": {
    "id": "Xc-k3BeYD2jG"
   },
   "outputs": [
    {
     "name": "stdout",
     "output_type": "stream",
     "text": [
      "(4, 4)\n"
     ]
    }
   ],
   "source": [
    "stand_tran=stand_array.transpose()\n",
    "last_matrix=np.dot(stand_tran,stand_array)\n",
    "cov_matrix=last_matrix/len(stand_array[:,0])\n",
    "\n",
    "\n",
    "print(cov_matrix.shape)"
   ]
  },
  {
   "cell_type": "markdown",
   "metadata": {
    "id": "eYeZKIpoD2jH"
   },
   "source": [
    "## Step 3: Calculate the eigenvalues and eigenvectors for the covariance matrix.\n",
    "## Step 4: Sort eigenvalues and their corresponding eigenvectors."
   ]
  },
  {
   "cell_type": "code",
   "execution_count": 291,
   "metadata": {
    "id": "qmq2jiwAD2jH"
   },
   "outputs": [],
   "source": [
    "val,vec=np.linalg.eig(cov_matrix)\n"
   ]
  },
  {
   "cell_type": "code",
   "execution_count": 292,
   "metadata": {
    "id": "aJTVi1QKD2jI"
   },
   "outputs": [
    {
     "name": "stdout",
     "output_type": "stream",
     "text": [
      "[2.01263459 0.8522308  0.31510964 0.02002497]\n",
      "[[ 0.16195986 -0.91705888 -0.30707099  0.19616173]\n",
      " [-0.52404813  0.20692161 -0.81731886  0.12061043]\n",
      " [-0.58589647 -0.3205394   0.1882497  -0.72009851]\n",
      " [-0.59654663 -0.11593512  0.44973251  0.65454704]]\n"
     ]
    }
   ],
   "source": [
    "print(val)\n",
    "print(vec)\n"
   ]
  },
  {
   "cell_type": "markdown",
   "metadata": {
    "id": "C2q2m5QAD2jJ"
   },
   "source": [
    "## Step 5: Pick k eigenvalues and form a matrix of eigenvectors."
   ]
  },
  {
   "cell_type": "markdown",
   "metadata": {
    "id": "h0RAIImGD2jJ"
   },
   "source": [
    "### Select the first eigen vectors"
   ]
  },
  {
   "cell_type": "code",
   "execution_count": 293,
   "metadata": {
    "id": "v4XGiOC2D2jK"
   },
   "outputs": [
    {
     "name": "stdout",
     "output_type": "stream",
     "text": [
      "[2.01263459 0.8522308  0.31510964 0.02002497]\n",
      "[[ 0.16195986 -0.91705888 -0.30707099  0.19616173]\n",
      " [-0.52404813  0.20692161 -0.81731886  0.12061043]\n",
      " [-0.58589647 -0.3205394   0.1882497  -0.72009851]\n",
      " [-0.59654663 -0.11593512  0.44973251  0.65454704]]\n",
      "(2, 4)\n"
     ]
    }
   ],
   "source": [
    "print(val)\n",
    "print(vec)\n",
    "eigvectors=vec[0:2]\n",
    "print(eigvectors.shape)"
   ]
  },
  {
   "cell_type": "markdown",
   "metadata": {
    "id": "X74sb2vPD2jL"
   },
   "source": [
    "## Step 6:Transform the original matrix."
   ]
  },
  {
   "cell_type": "code",
   "execution_count": 294,
   "metadata": {
    "id": "1z8XV8VRD2jL"
   },
   "outputs": [
    {
     "name": "stdout",
     "output_type": "stream",
     "text": [
      "[[ 0.46916343  0.42461331]\n",
      " [-1.33112789 -1.13997971]\n",
      " [-0.59875419  1.10584019]\n",
      " [ 0.02677683  0.17146098]\n",
      " [ 1.43394182 -0.56193477]]\n"
     ]
    }
   ],
   "source": [
    "last_features= np.dot(stand_array,eigvectors.transpose())\n",
    "#print(stand_array)\n",
    "\n",
    "print(last_features)"
   ]
  },
  {
   "cell_type": "markdown",
   "metadata": {
    "id": "wGvYWi8fD2jM"
   },
   "source": [
    "## Final  \n"
   ]
  },
  {
   "cell_type": "code",
   "execution_count": 295,
   "metadata": {
    "id": "ZHyR4dOFD2jN"
   },
   "outputs": [
    {
     "name": "stdout",
     "output_type": "stream",
     "text": [
      "[[ 0.46916343  0.42461331]\n",
      " [-1.33112789 -1.13997971]\n",
      " [-0.59875419  1.10584019]\n",
      " [ 0.02677683  0.17146098]\n",
      " [ 1.43394182 -0.56193477]]\n"
     ]
    }
   ],
   "source": [
    "print(last_features)"
   ]
  }
 ],
 "metadata": {
  "colab": {
   "name": "Practical Work PCA Step By Step.ipynb",
   "provenance": []
  },
  "kernelspec": {
   "display_name": "Python 3",
   "language": "python",
   "name": "python3"
  },
  "language_info": {
   "codemirror_mode": {
    "name": "ipython",
    "version": 3
   },
   "file_extension": ".py",
   "mimetype": "text/x-python",
   "name": "python",
   "nbconvert_exporter": "python",
   "pygments_lexer": "ipython3",
   "version": "3.8.5"
  }
 },
 "nbformat": 4,
 "nbformat_minor": 1
}
